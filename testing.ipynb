{
  "cells": [
    {
      "cell_type": "markdown",
      "metadata": {
        "id": "4F-xqh9hcaqD"
      },
      "source": [
        "\n",
        "# Testing ML\n",
        "\n",
        "This notebook contains the free form code for the [testing ML lesson](https://madewithml.com/courses/mlops/testing/) where we learn how to test code, data and models in order to build reliable ML systems.\n",
        "\n",
        "<div align=\"left\">\n",
        "<a target=\"_blank\" href=\"https://madewithml.com/courses/mlops/testing/\"><img src=\"https://img.shields.io/badge/📖 Read-lesson-9cf\"></a>&nbsp;\n",
        "<a href=\"https://github.com/GokuMohandas/testing-ml/blob/main/testing.ipynb\" role=\"button\"><img src=\"https://img.shields.io/static/v1?label=&amp;message=View%20On%20GitHub&amp;color=586069&amp;logo=github&amp;labelColor=2f363d\"></a>&nbsp;\n",
        "<a href=\"https://colab.research.google.com/github/GokuMohandas/testing-ml/blob/main/testing.ipynb\"><img src=\"https://colab.research.google.com/assets/colab-badge.svg\" alt=\"Open In Colab\"></a>\n",
        "</div>"
      ]
    },
    {
      "cell_type": "markdown",
      "metadata": {
        "id": "wKGLhg_qcaqH"
      },
      "source": [
        "# Great Expectations"
      ]
    },
    {
      "cell_type": "code",
      "execution_count": null,
      "metadata": {
        "id": "zHTlIl_3caqI"
      },
      "outputs": [],
      "source": [
        "!pip install great-expectations==0.15.7 -q"
      ]
    },
    {
      "cell_type": "code",
      "execution_count": null,
      "metadata": {
        "id": "27pRgYKFcaqJ"
      },
      "outputs": [],
      "source": [
        "import great_expectations as ge\n",
        "import json\n",
        "import pandas as pd\n",
        "from urllib.request import urlopen"
      ]
    },
    {
      "cell_type": "code",
      "execution_count": null,
      "metadata": {
        "colab": {
          "base_uri": "https://localhost:8080/",
          "height": 224
        },
        "id": "U0TGfyUzcaqJ",
        "outputId": "37e7a7ae-d86f-413c-9bc6-d140d84674e3"
      },
      "outputs": [
        {
          "name": "stdout",
          "output_type": "stream",
          "text": [
            "955 projects\n"
          ]
        },
        {
          "data": {
            "text/html": [
              "\n",
              "  <div id=\"df-d2ab379e-a3fa-4c5e-ae4d-f78fac89b5c7\">\n",
              "    <div class=\"colab-df-container\">\n",
              "      <div>\n",
              "<style scoped>\n",
              "    .dataframe tbody tr th:only-of-type {\n",
              "        vertical-align: middle;\n",
              "    }\n",
              "\n",
              "    .dataframe tbody tr th {\n",
              "        vertical-align: top;\n",
              "    }\n",
              "\n",
              "    .dataframe thead th {\n",
              "        text-align: right;\n",
              "    }\n",
              "</style>\n",
              "<table border=\"1\" class=\"dataframe\">\n",
              "  <thead>\n",
              "    <tr style=\"text-align: right;\">\n",
              "      <th></th>\n",
              "      <th>id</th>\n",
              "      <th>created_on</th>\n",
              "      <th>title</th>\n",
              "      <th>description</th>\n",
              "      <th>tag</th>\n",
              "    </tr>\n",
              "  </thead>\n",
              "  <tbody>\n",
              "    <tr>\n",
              "      <th>0</th>\n",
              "      <td>6</td>\n",
              "      <td>2020-02-20 06:43:18</td>\n",
              "      <td>Comparison between YOLO and RCNN on real world...</td>\n",
              "      <td>Bringing theory to experiment is cool. We can ...</td>\n",
              "      <td>computer-vision</td>\n",
              "    </tr>\n",
              "    <tr>\n",
              "      <th>1</th>\n",
              "      <td>7</td>\n",
              "      <td>2020-02-20 06:47:21</td>\n",
              "      <td>Show, Infer &amp; Tell: Contextual Inference for C...</td>\n",
              "      <td>The beauty of the work lies in the way it arch...</td>\n",
              "      <td>computer-vision</td>\n",
              "    </tr>\n",
              "    <tr>\n",
              "      <th>2</th>\n",
              "      <td>9</td>\n",
              "      <td>2020-02-24 16:24:45</td>\n",
              "      <td>Awesome Graph Classification</td>\n",
              "      <td>A collection of important graph embedding, cla...</td>\n",
              "      <td>graph-learning</td>\n",
              "    </tr>\n",
              "    <tr>\n",
              "      <th>3</th>\n",
              "      <td>15</td>\n",
              "      <td>2020-02-28 23:55:26</td>\n",
              "      <td>Awesome Monte Carlo Tree Search</td>\n",
              "      <td>A curated list of Monte Carlo tree search pape...</td>\n",
              "      <td>reinforcement-learning</td>\n",
              "    </tr>\n",
              "    <tr>\n",
              "      <th>4</th>\n",
              "      <td>19</td>\n",
              "      <td>2020-03-03 13:54:31</td>\n",
              "      <td>Diffusion to Vector</td>\n",
              "      <td>Reference implementation of Diffusion2Vec (Com...</td>\n",
              "      <td>graph-learning</td>\n",
              "    </tr>\n",
              "  </tbody>\n",
              "</table>\n",
              "</div>\n",
              "      <button class=\"colab-df-convert\" onclick=\"convertToInteractive('df-d2ab379e-a3fa-4c5e-ae4d-f78fac89b5c7')\"\n",
              "              title=\"Convert this dataframe to an interactive table.\"\n",
              "              style=\"display:none;\">\n",
              "        \n",
              "  <svg xmlns=\"http://www.w3.org/2000/svg\" height=\"24px\"viewBox=\"0 0 24 24\"\n",
              "       width=\"24px\">\n",
              "    <path d=\"M0 0h24v24H0V0z\" fill=\"none\"/>\n",
              "    <path d=\"M18.56 5.44l.94 2.06.94-2.06 2.06-.94-2.06-.94-.94-2.06-.94 2.06-2.06.94zm-11 1L8.5 8.5l.94-2.06 2.06-.94-2.06-.94L8.5 2.5l-.94 2.06-2.06.94zm10 10l.94 2.06.94-2.06 2.06-.94-2.06-.94-.94-2.06-.94 2.06-2.06.94z\"/><path d=\"M17.41 7.96l-1.37-1.37c-.4-.4-.92-.59-1.43-.59-.52 0-1.04.2-1.43.59L10.3 9.45l-7.72 7.72c-.78.78-.78 2.05 0 2.83L4 21.41c.39.39.9.59 1.41.59.51 0 1.02-.2 1.41-.59l7.78-7.78 2.81-2.81c.8-.78.8-2.07 0-2.86zM5.41 20L4 18.59l7.72-7.72 1.47 1.35L5.41 20z\"/>\n",
              "  </svg>\n",
              "      </button>\n",
              "      \n",
              "  <style>\n",
              "    .colab-df-container {\n",
              "      display:flex;\n",
              "      flex-wrap:wrap;\n",
              "      gap: 12px;\n",
              "    }\n",
              "\n",
              "    .colab-df-convert {\n",
              "      background-color: #E8F0FE;\n",
              "      border: none;\n",
              "      border-radius: 50%;\n",
              "      cursor: pointer;\n",
              "      display: none;\n",
              "      fill: #1967D2;\n",
              "      height: 32px;\n",
              "      padding: 0 0 0 0;\n",
              "      width: 32px;\n",
              "    }\n",
              "\n",
              "    .colab-df-convert:hover {\n",
              "      background-color: #E2EBFA;\n",
              "      box-shadow: 0px 1px 2px rgba(60, 64, 67, 0.3), 0px 1px 3px 1px rgba(60, 64, 67, 0.15);\n",
              "      fill: #174EA6;\n",
              "    }\n",
              "\n",
              "    [theme=dark] .colab-df-convert {\n",
              "      background-color: #3B4455;\n",
              "      fill: #D2E3FC;\n",
              "    }\n",
              "\n",
              "    [theme=dark] .colab-df-convert:hover {\n",
              "      background-color: #434B5C;\n",
              "      box-shadow: 0px 1px 3px 1px rgba(0, 0, 0, 0.15);\n",
              "      filter: drop-shadow(0px 1px 2px rgba(0, 0, 0, 0.3));\n",
              "      fill: #FFFFFF;\n",
              "    }\n",
              "  </style>\n",
              "\n",
              "      <script>\n",
              "        const buttonEl =\n",
              "          document.querySelector('#df-d2ab379e-a3fa-4c5e-ae4d-f78fac89b5c7 button.colab-df-convert');\n",
              "        buttonEl.style.display =\n",
              "          google.colab.kernel.accessAllowed ? 'block' : 'none';\n",
              "\n",
              "        async function convertToInteractive(key) {\n",
              "          const element = document.querySelector('#df-d2ab379e-a3fa-4c5e-ae4d-f78fac89b5c7');\n",
              "          const dataTable =\n",
              "            await google.colab.kernel.invokeFunction('convertToInteractive',\n",
              "                                                     [key], {});\n",
              "          if (!dataTable) return;\n",
              "\n",
              "          const docLinkHtml = 'Like what you see? Visit the ' +\n",
              "            '<a target=\"_blank\" href=https://colab.research.google.com/notebooks/data_table.ipynb>data table notebook</a>'\n",
              "            + ' to learn more about interactive tables.';\n",
              "          element.innerHTML = '';\n",
              "          dataTable['output_type'] = 'display_data';\n",
              "          await google.colab.output.renderOutput(dataTable, element);\n",
              "          const docLink = document.createElement('div');\n",
              "          docLink.innerHTML = docLinkHtml;\n",
              "          element.appendChild(docLink);\n",
              "        }\n",
              "      </script>\n",
              "    </div>\n",
              "  </div>\n",
              "  "
            ],
            "text/plain": [
              "   id           created_on                                              title  \\\n",
              "0   6  2020-02-20 06:43:18  Comparison between YOLO and RCNN on real world...   \n",
              "1   7  2020-02-20 06:47:21  Show, Infer & Tell: Contextual Inference for C...   \n",
              "2   9  2020-02-24 16:24:45                       Awesome Graph Classification   \n",
              "3  15  2020-02-28 23:55:26                    Awesome Monte Carlo Tree Search   \n",
              "4  19  2020-03-03 13:54:31                                Diffusion to Vector   \n",
              "\n",
              "                                         description                     tag  \n",
              "0  Bringing theory to experiment is cool. We can ...         computer-vision  \n",
              "1  The beauty of the work lies in the way it arch...         computer-vision  \n",
              "2  A collection of important graph embedding, cla...          graph-learning  \n",
              "3  A curated list of Monte Carlo tree search pape...  reinforcement-learning  \n",
              "4  Reference implementation of Diffusion2Vec (Com...          graph-learning  "
            ]
          },
          "execution_count": 11,
          "metadata": {},
          "output_type": "execute_result"
        }
      ],
      "source": [
        "# Load projects\n",
        "url = \"https://raw.githubusercontent.com/GokuMohandas/Made-With-ML/main/datasets/projects.json\"\n",
        "projects = json.loads(urlopen(url).read())\n",
        "df = ge.dataset.PandasDataset(projects)\n",
        "print (f\"{len(df)} projects\")\n",
        "df.head(5)"
      ]
    },
    {
      "cell_type": "markdown",
      "metadata": {
        "id": "d-GGQ6RzcaqK"
      },
      "source": [
        "### Table Expectation(s)"
      ]
    },
    {
      "cell_type": "code",
      "execution_count": null,
      "metadata": {
        "colab": {
          "base_uri": "https://localhost:8080/"
        },
        "id": "fKL0zDbgcaqL",
        "outputId": "6a4b5031-c456-4d66-87ce-c414cb6406d0"
      },
      "outputs": [
        {
          "data": {
            "text/plain": [
              "{\n",
              "  \"success\": true,\n",
              "  \"expectation_config\": {\n",
              "    \"meta\": {},\n",
              "    \"kwargs\": {\n",
              "      \"column_list\": [\n",
              "        \"id\",\n",
              "        \"created_on\",\n",
              "        \"title\",\n",
              "        \"description\",\n",
              "        \"tag\"\n",
              "      ],\n",
              "      \"result_format\": \"BASIC\"\n",
              "    },\n",
              "    \"expectation_type\": \"expect_table_columns_to_match_ordered_list\"\n",
              "  },\n",
              "  \"meta\": {},\n",
              "  \"result\": {\n",
              "    \"observed_value\": [\n",
              "      \"id\",\n",
              "      \"created_on\",\n",
              "      \"title\",\n",
              "      \"description\",\n",
              "      \"tag\"\n",
              "    ]\n",
              "  },\n",
              "  \"exception_info\": {\n",
              "    \"raised_exception\": false,\n",
              "    \"exception_traceback\": null,\n",
              "    \"exception_message\": null\n",
              "  }\n",
              "}"
            ]
          },
          "execution_count": 12,
          "metadata": {},
          "output_type": "execute_result"
        }
      ],
      "source": [
        "df.expect_table_columns_to_match_ordered_list(\n",
        "    column_list=[\"id\", \"created_on\", \"title\", \"description\", \"tag\"]\n",
        ")"
      ]
    },
    {
      "cell_type": "code",
      "execution_count": null,
      "metadata": {
        "colab": {
          "base_uri": "https://localhost:8080/"
        },
        "id": "9m1e4jOUcaqM",
        "outputId": "53d77a33-f654-437b-84ad-b79111574f28"
      },
      "outputs": [
        {
          "data": {
            "text/plain": [
              "{\n",
              "  \"success\": true,\n",
              "  \"expectation_config\": {\n",
              "    \"meta\": {},\n",
              "    \"kwargs\": {\n",
              "      \"column_list\": [\n",
              "        \"title\",\n",
              "        \"description\"\n",
              "      ],\n",
              "      \"result_format\": \"BASIC\"\n",
              "    },\n",
              "    \"expectation_type\": \"expect_compound_columns_to_be_unique\"\n",
              "  },\n",
              "  \"meta\": {},\n",
              "  \"result\": {\n",
              "    \"element_count\": 955,\n",
              "    \"missing_count\": 0,\n",
              "    \"missing_percent\": 0.0,\n",
              "    \"unexpected_count\": 0,\n",
              "    \"unexpected_percent\": 0.0,\n",
              "    \"unexpected_percent_total\": 0.0,\n",
              "    \"unexpected_percent_nonmissing\": 0.0,\n",
              "    \"partial_unexpected_list\": []\n",
              "  },\n",
              "  \"exception_info\": {\n",
              "    \"raised_exception\": false,\n",
              "    \"exception_traceback\": null,\n",
              "    \"exception_message\": null\n",
              "  }\n",
              "}"
            ]
          },
          "execution_count": 13,
          "metadata": {},
          "output_type": "execute_result"
        }
      ],
      "source": [
        "df.expect_compound_columns_to_be_unique(column_list=[\"title\", \"description\"])"
      ]
    },
    {
      "cell_type": "markdown",
      "metadata": {
        "id": "pjICpnLScaqN"
      },
      "source": [
        "### Column Expectation(s)"
      ]
    },
    {
      "cell_type": "markdown",
      "metadata": {
        "id": "4t3JklLocaqN"
      },
      "source": [
        "`id`"
      ]
    },
    {
      "cell_type": "code",
      "execution_count": null,
      "metadata": {
        "colab": {
          "base_uri": "https://localhost:8080/"
        },
        "id": "UK9YstehcaqO",
        "outputId": "c815ef2d-f1ab-4b33-d791-6be88fb89d89"
      },
      "outputs": [
        {
          "data": {
            "text/plain": [
              "{\n",
              "  \"success\": true,\n",
              "  \"expectation_config\": {\n",
              "    \"meta\": {},\n",
              "    \"kwargs\": {\n",
              "      \"column\": \"id\",\n",
              "      \"result_format\": \"BASIC\"\n",
              "    },\n",
              "    \"expectation_type\": \"expect_column_values_to_be_unique\"\n",
              "  },\n",
              "  \"meta\": {},\n",
              "  \"result\": {\n",
              "    \"element_count\": 955,\n",
              "    \"missing_count\": 0,\n",
              "    \"missing_percent\": 0.0,\n",
              "    \"unexpected_count\": 0,\n",
              "    \"unexpected_percent\": 0.0,\n",
              "    \"unexpected_percent_total\": 0.0,\n",
              "    \"unexpected_percent_nonmissing\": 0.0,\n",
              "    \"partial_unexpected_list\": []\n",
              "  },\n",
              "  \"exception_info\": {\n",
              "    \"raised_exception\": false,\n",
              "    \"exception_traceback\": null,\n",
              "    \"exception_message\": null\n",
              "  }\n",
              "}"
            ]
          },
          "execution_count": 14,
          "metadata": {},
          "output_type": "execute_result"
        }
      ],
      "source": [
        "df.expect_column_values_to_be_unique(column=\"id\")"
      ]
    },
    {
      "cell_type": "markdown",
      "metadata": {
        "id": "iEXg8G2DcaqP"
      },
      "source": [
        "`created_on`"
      ]
    },
    {
      "cell_type": "code",
      "execution_count": null,
      "metadata": {
        "colab": {
          "base_uri": "https://localhost:8080/"
        },
        "id": "gzlyWb4_caqP",
        "outputId": "dca61d5a-8e9c-4689-9351-430a9e3e09ec"
      },
      "outputs": [
        {
          "data": {
            "text/plain": [
              "{\n",
              "  \"success\": true,\n",
              "  \"expectation_config\": {\n",
              "    \"meta\": {},\n",
              "    \"kwargs\": {\n",
              "      \"column\": \"created_on\",\n",
              "      \"result_format\": \"BASIC\"\n",
              "    },\n",
              "    \"expectation_type\": \"expect_column_values_to_not_be_null\"\n",
              "  },\n",
              "  \"meta\": {},\n",
              "  \"result\": {\n",
              "    \"element_count\": 955,\n",
              "    \"unexpected_count\": 0,\n",
              "    \"unexpected_percent\": 0.0,\n",
              "    \"unexpected_percent_total\": 0.0,\n",
              "    \"partial_unexpected_list\": []\n",
              "  },\n",
              "  \"exception_info\": {\n",
              "    \"raised_exception\": false,\n",
              "    \"exception_traceback\": null,\n",
              "    \"exception_message\": null\n",
              "  }\n",
              "}"
            ]
          },
          "execution_count": 15,
          "metadata": {},
          "output_type": "execute_result"
        }
      ],
      "source": [
        "df.expect_column_values_to_not_be_null(column=\"created_on\")"
      ]
    },
    {
      "cell_type": "code",
      "execution_count": null,
      "metadata": {
        "colab": {
          "base_uri": "https://localhost:8080/"
        },
        "id": "FdyAkxrMcaqQ",
        "outputId": "e5daa606-914d-4713-ef42-c9ee25fb2dc8"
      },
      "outputs": [
        {
          "data": {
            "text/plain": [
              "{\n",
              "  \"success\": true,\n",
              "  \"expectation_config\": {\n",
              "    \"meta\": {},\n",
              "    \"kwargs\": {\n",
              "      \"column\": \"created_on\",\n",
              "      \"strftime_format\": \"%Y-%m-%d %H:%M:%S\",\n",
              "      \"result_format\": \"BASIC\"\n",
              "    },\n",
              "    \"expectation_type\": \"expect_column_values_to_match_strftime_format\"\n",
              "  },\n",
              "  \"meta\": {},\n",
              "  \"result\": {\n",
              "    \"element_count\": 955,\n",
              "    \"missing_count\": 0,\n",
              "    \"missing_percent\": 0.0,\n",
              "    \"unexpected_count\": 0,\n",
              "    \"unexpected_percent\": 0.0,\n",
              "    \"unexpected_percent_total\": 0.0,\n",
              "    \"unexpected_percent_nonmissing\": 0.0,\n",
              "    \"partial_unexpected_list\": []\n",
              "  },\n",
              "  \"exception_info\": {\n",
              "    \"raised_exception\": false,\n",
              "    \"exception_traceback\": null,\n",
              "    \"exception_message\": null\n",
              "  }\n",
              "}"
            ]
          },
          "execution_count": 16,
          "metadata": {},
          "output_type": "execute_result"
        }
      ],
      "source": [
        "df.expect_column_values_to_match_strftime_format(\n",
        "    column=\"created_on\", strftime_format=\"%Y-%m-%d %H:%M:%S\"\n",
        ")"
      ]
    },
    {
      "cell_type": "markdown",
      "metadata": {
        "id": "LQGMYSmKcaqQ"
      },
      "source": [
        "`title`"
      ]
    },
    {
      "cell_type": "code",
      "execution_count": null,
      "metadata": {
        "colab": {
          "base_uri": "https://localhost:8080/"
        },
        "id": "qVf0yqNncaqR",
        "outputId": "6bd524ce-4eb2-4e83-c6ed-09817a5658ba"
      },
      "outputs": [
        {
          "data": {
            "text/plain": [
              "{\n",
              "  \"success\": true,\n",
              "  \"expectation_config\": {\n",
              "    \"meta\": {},\n",
              "    \"kwargs\": {\n",
              "      \"column\": \"title\",\n",
              "      \"result_format\": \"BASIC\"\n",
              "    },\n",
              "    \"expectation_type\": \"expect_column_values_to_not_be_null\"\n",
              "  },\n",
              "  \"meta\": {},\n",
              "  \"result\": {\n",
              "    \"element_count\": 955,\n",
              "    \"unexpected_count\": 0,\n",
              "    \"unexpected_percent\": 0.0,\n",
              "    \"unexpected_percent_total\": 0.0,\n",
              "    \"partial_unexpected_list\": []\n",
              "  },\n",
              "  \"exception_info\": {\n",
              "    \"raised_exception\": false,\n",
              "    \"exception_traceback\": null,\n",
              "    \"exception_message\": null\n",
              "  }\n",
              "}"
            ]
          },
          "execution_count": 17,
          "metadata": {},
          "output_type": "execute_result"
        }
      ],
      "source": [
        "df.expect_column_values_to_not_be_null(column=\"title\")"
      ]
    },
    {
      "cell_type": "code",
      "execution_count": null,
      "metadata": {
        "colab": {
          "base_uri": "https://localhost:8080/"
        },
        "id": "Uo6gun2-caqR",
        "outputId": "beea13a8-7cf3-4627-c551-1978e72c25f8"
      },
      "outputs": [
        {
          "data": {
            "text/plain": [
              "{\n",
              "  \"success\": true,\n",
              "  \"expectation_config\": {\n",
              "    \"meta\": {},\n",
              "    \"kwargs\": {\n",
              "      \"column\": \"title\",\n",
              "      \"type_\": \"str\",\n",
              "      \"result_format\": \"BASIC\"\n",
              "    },\n",
              "    \"expectation_type\": \"_expect_column_values_to_be_of_type__map\"\n",
              "  },\n",
              "  \"meta\": {},\n",
              "  \"result\": {\n",
              "    \"element_count\": 955,\n",
              "    \"missing_count\": 0,\n",
              "    \"missing_percent\": 0.0,\n",
              "    \"unexpected_count\": 0,\n",
              "    \"unexpected_percent\": 0.0,\n",
              "    \"unexpected_percent_total\": 0.0,\n",
              "    \"unexpected_percent_nonmissing\": 0.0,\n",
              "    \"partial_unexpected_list\": []\n",
              "  },\n",
              "  \"exception_info\": {\n",
              "    \"raised_exception\": false,\n",
              "    \"exception_traceback\": null,\n",
              "    \"exception_message\": null\n",
              "  }\n",
              "}"
            ]
          },
          "execution_count": 18,
          "metadata": {},
          "output_type": "execute_result"
        }
      ],
      "source": [
        "df.expect_column_values_to_be_of_type(column=\"title\", type_=\"str\")"
      ]
    },
    {
      "cell_type": "markdown",
      "metadata": {
        "id": "IfE665yUcaqR"
      },
      "source": [
        "`description`"
      ]
    },
    {
      "cell_type": "code",
      "execution_count": null,
      "metadata": {
        "colab": {
          "base_uri": "https://localhost:8080/"
        },
        "id": "nBNSJiPkcaqS",
        "outputId": "7a582afd-2fd7-49ee-9246-34a22175e0c4"
      },
      "outputs": [
        {
          "data": {
            "text/plain": [
              "{\n",
              "  \"success\": true,\n",
              "  \"expectation_config\": {\n",
              "    \"meta\": {},\n",
              "    \"kwargs\": {\n",
              "      \"column\": \"description\",\n",
              "      \"result_format\": \"BASIC\"\n",
              "    },\n",
              "    \"expectation_type\": \"expect_column_values_to_not_be_null\"\n",
              "  },\n",
              "  \"meta\": {},\n",
              "  \"result\": {\n",
              "    \"element_count\": 955,\n",
              "    \"unexpected_count\": 0,\n",
              "    \"unexpected_percent\": 0.0,\n",
              "    \"unexpected_percent_total\": 0.0,\n",
              "    \"partial_unexpected_list\": []\n",
              "  },\n",
              "  \"exception_info\": {\n",
              "    \"raised_exception\": false,\n",
              "    \"exception_traceback\": null,\n",
              "    \"exception_message\": null\n",
              "  }\n",
              "}"
            ]
          },
          "execution_count": 19,
          "metadata": {},
          "output_type": "execute_result"
        }
      ],
      "source": [
        "df.expect_column_values_to_not_be_null(column=\"description\")"
      ]
    },
    {
      "cell_type": "code",
      "execution_count": null,
      "metadata": {
        "colab": {
          "base_uri": "https://localhost:8080/"
        },
        "id": "Q_KZ_QT4caqS",
        "outputId": "d58d7910-0303-415c-dc84-5d52ed92c99c"
      },
      "outputs": [
        {
          "data": {
            "text/plain": [
              "{\n",
              "  \"success\": true,\n",
              "  \"expectation_config\": {\n",
              "    \"meta\": {},\n",
              "    \"kwargs\": {\n",
              "      \"column\": \"description\",\n",
              "      \"type_\": \"str\",\n",
              "      \"result_format\": \"BASIC\"\n",
              "    },\n",
              "    \"expectation_type\": \"_expect_column_values_to_be_of_type__map\"\n",
              "  },\n",
              "  \"meta\": {},\n",
              "  \"result\": {\n",
              "    \"element_count\": 955,\n",
              "    \"missing_count\": 0,\n",
              "    \"missing_percent\": 0.0,\n",
              "    \"unexpected_count\": 0,\n",
              "    \"unexpected_percent\": 0.0,\n",
              "    \"unexpected_percent_total\": 0.0,\n",
              "    \"unexpected_percent_nonmissing\": 0.0,\n",
              "    \"partial_unexpected_list\": []\n",
              "  },\n",
              "  \"exception_info\": {\n",
              "    \"raised_exception\": false,\n",
              "    \"exception_traceback\": null,\n",
              "    \"exception_message\": null\n",
              "  }\n",
              "}"
            ]
          },
          "execution_count": 20,
          "metadata": {},
          "output_type": "execute_result"
        }
      ],
      "source": [
        "df.expect_column_values_to_be_of_type(column=\"description\", type_=\"str\")"
      ]
    },
    {
      "cell_type": "markdown",
      "metadata": {
        "id": "1cULGPDTcaqT"
      },
      "source": [
        "`tag`"
      ]
    },
    {
      "cell_type": "code",
      "execution_count": null,
      "metadata": {
        "colab": {
          "base_uri": "https://localhost:8080/"
        },
        "id": "1jltcjwacaqT",
        "outputId": "1d50442c-76cc-452e-cb80-3a7b88bc1cd9"
      },
      "outputs": [
        {
          "data": {
            "text/plain": [
              "{\n",
              "  \"success\": true,\n",
              "  \"expectation_config\": {\n",
              "    \"meta\": {},\n",
              "    \"kwargs\": {\n",
              "      \"column\": \"tag\",\n",
              "      \"result_format\": \"BASIC\"\n",
              "    },\n",
              "    \"expectation_type\": \"expect_column_values_to_not_be_null\"\n",
              "  },\n",
              "  \"meta\": {},\n",
              "  \"result\": {\n",
              "    \"element_count\": 955,\n",
              "    \"unexpected_count\": 0,\n",
              "    \"unexpected_percent\": 0.0,\n",
              "    \"unexpected_percent_total\": 0.0,\n",
              "    \"partial_unexpected_list\": []\n",
              "  },\n",
              "  \"exception_info\": {\n",
              "    \"raised_exception\": false,\n",
              "    \"exception_traceback\": null,\n",
              "    \"exception_message\": null\n",
              "  }\n",
              "}"
            ]
          },
          "execution_count": 21,
          "metadata": {},
          "output_type": "execute_result"
        }
      ],
      "source": [
        "df.expect_column_values_to_not_be_null(column=\"tag\")"
      ]
    },
    {
      "cell_type": "code",
      "execution_count": null,
      "metadata": {
        "colab": {
          "base_uri": "https://localhost:8080/"
        },
        "id": "3beplfiIcaqT",
        "outputId": "bc1a1d2b-80ff-4dc7-8b22-0ad7eeac0a95"
      },
      "outputs": [
        {
          "data": {
            "text/plain": [
              "{\n",
              "  \"success\": true,\n",
              "  \"expectation_config\": {\n",
              "    \"meta\": {},\n",
              "    \"kwargs\": {\n",
              "      \"column\": \"tag\",\n",
              "      \"type_\": \"str\",\n",
              "      \"result_format\": \"BASIC\"\n",
              "    },\n",
              "    \"expectation_type\": \"_expect_column_values_to_be_of_type__map\"\n",
              "  },\n",
              "  \"meta\": {},\n",
              "  \"result\": {\n",
              "    \"element_count\": 955,\n",
              "    \"missing_count\": 0,\n",
              "    \"missing_percent\": 0.0,\n",
              "    \"unexpected_count\": 0,\n",
              "    \"unexpected_percent\": 0.0,\n",
              "    \"unexpected_percent_total\": 0.0,\n",
              "    \"unexpected_percent_nonmissing\": 0.0,\n",
              "    \"partial_unexpected_list\": []\n",
              "  },\n",
              "  \"exception_info\": {\n",
              "    \"raised_exception\": false,\n",
              "    \"exception_traceback\": null,\n",
              "    \"exception_message\": null\n",
              "  }\n",
              "}"
            ]
          },
          "execution_count": 22,
          "metadata": {},
          "output_type": "execute_result"
        }
      ],
      "source": [
        "df.expect_column_values_to_be_of_type(column=\"tag\", type_=\"str\")"
      ]
    },
    {
      "cell_type": "markdown",
      "metadata": {
        "id": "f4c6BGKOcaqU"
      },
      "source": [
        "### Suite"
      ]
    },
    {
      "cell_type": "code",
      "execution_count": null,
      "metadata": {
        "colab": {
          "base_uri": "https://localhost:8080/"
        },
        "id": "TUJ1vH6mcaqU",
        "outputId": "022e2f01-6cc9-487e-b791-3cbd1f1e3645"
      },
      "outputs": [
        {
          "name": "stdout",
          "output_type": "stream",
          "text": [
            "{\n",
            "  \"success\": true,\n",
            "  \"results\": [],\n",
            "  \"evaluation_parameters\": {},\n",
            "  \"statistics\": {\n",
            "    \"evaluated_expectations\": 11,\n",
            "    \"successful_expectations\": 11,\n",
            "    \"unsuccessful_expectations\": 0,\n",
            "    \"success_percent\": 100.0\n",
            "  },\n",
            "  \"meta\": {\n",
            "    \"great_expectations_version\": \"0.15.7\",\n",
            "    \"expectation_suite_name\": \"default\",\n",
            "    \"run_id\": {\n",
            "      \"run_name\": null,\n",
            "      \"run_time\": \"2022-06-22T17:31:03.478180+00:00\"\n",
            "    },\n",
            "    \"batch_kwargs\": {\n",
            "      \"ge_batch_id\": \"08cd311c-f251-11ec-88b6-0242ac1c0002\"\n",
            "    },\n",
            "    \"batch_markers\": {},\n",
            "    \"batch_parameters\": {},\n",
            "    \"validation_time\": \"20220622T173103.478092Z\",\n",
            "    \"expectation_suite_meta\": {\n",
            "      \"great_expectations_version\": \"0.15.7\"\n",
            "    }\n",
            "  }\n",
            "}\n"
          ]
        }
      ],
      "source": [
        "# Expectation suite\n",
        "expectation_suite = df.get_expectation_suite(discard_failed_expectations=False)\n",
        "print(df.validate(expectation_suite=expectation_suite, only_return_failures=True))\n"
      ]
    }
  ],
  "metadata": {
    "colab": {
      "collapsed_sections": [],
      "name": "testing.ipynb",
      "provenance": [],
      "toc_visible": true
    },
    "interpreter": {
      "hash": "83775aec2432b80a3e3a7273058d2ca65ee45d2724db98f63d82dc93e779d1d6"
    },
    "kernelspec": {
      "display_name": "Python 3.7.13 ('venv': venv)",
      "language": "python",
      "name": "python3"
    },
    "language_info": {
      "codemirror_mode": {
        "name": "ipython",
        "version": 3
      },
      "file_extension": ".py",
      "mimetype": "text/x-python",
      "name": "python",
      "nbconvert_exporter": "python",
      "pygments_lexer": "ipython3",
      "version": "3.7.13"
    },
    "orig_nbformat": 4
  },
  "nbformat": 4,
  "nbformat_minor": 0
}
