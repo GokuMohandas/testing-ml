{
  "cells": [
    {
      "cell_type": "markdown",
      "metadata": {
        "id": "oYMQr4Nl-DYg"
      },
      "source": [
        "<div align=\"center\">\n",
        "<h1><img width=\"30\" src=\"https://madewithml.com/static/images/rounded_logo.png\">&nbsp;<a href=\"https://madewithml.com/\">Made With ML</a></h1>\n",
        "Applied ML · MLOps · Production\n",
        "<br>\n",
        "Join 30K+ developers in learning how to responsibly <a href=\"https://madewithml.com/about/\">deliver value</a> with ML.\n",
        "    <br>\n",
        "</div>\n",
        "\n",
        "<br>\n",
        "\n",
        "<div align=\"center\">\n",
        "    <a target=\"_blank\" href=\"https://newsletter.madewithml.com\"><img src=\"https://img.shields.io/badge/Subscribe-30K-brightgreen\"></a>&nbsp;\n",
        "    <a target=\"_blank\" href=\"https://github.com/GokuMohandas/MadeWithML\"><img src=\"https://img.shields.io/github/stars/GokuMohandas/MadeWithML.svg?style=social&label=Star\"></a>&nbsp;\n",
        "    <a target=\"_blank\" href=\"https://www.linkedin.com/in/goku\"><img src=\"https://img.shields.io/badge/style--5eba00.svg?label=LinkedIn&logo=linkedin&style=social\"></a>&nbsp;\n",
        "    <a target=\"_blank\" href=\"https://twitter.com/GokuMohandas\"><img src=\"https://img.shields.io/twitter/follow/GokuMohandas.svg?label=Follow&style=social\"></a>\n",
        "    <br>\n",
        "    🔥&nbsp; Among the <a href=\"https://github.com/GokuMohandas/MadeWithML\" target=\"_blank\">top MLOps</a> repositories on GitHub\n",
        "</div>\n",
        "\n",
        "<br>\n",
        "<hr>"
      ]
    },
    {
      "cell_type": "markdown",
      "metadata": {
        "id": "4F-xqh9hcaqD"
      },
      "source": [
        "\n",
        "# Testing ML\n",
        "\n",
        "This notebook complements the [testing ML lesson](https://madewithml.com/courses/mlops/testing/) where we learn how to test code, data and models in order to build reliable ML systems. All the concepts mentioned here are covered in much more detail and tied to software engineering best practices for building ML systems. So be sure to check out the [lesson](https://madewithml.com/courses/mlops/testing/) if you haven't already."
      ]
    },
    {
      "cell_type": "markdown",
      "metadata": {
        "id": "H15IJGqnp323"
      },
      "source": [
        "<div align=\"left\">\n",
        "<a target=\"_blank\" href=\"https://madewithml.com/courses/mlops/testing/\"><img src=\"https://img.shields.io/badge/📖 Read-lesson-9cf\"></a>&nbsp;\n",
        "<a href=\"https://github.com/GokuMohandas/testing-ml/blob/main/testing.ipynb\" role=\"button\"><img src=\"https://img.shields.io/static/v1?label=&amp;message=View%20On%20GitHub&amp;color=586069&amp;logo=github&amp;labelColor=2f363d\"></a>&nbsp;\n",
        "<a href=\"https://colab.research.google.com/github/GokuMohandas/testing-ml/blob/main/testing.ipynb\"><img src=\"https://colab.research.google.com/assets/colab-badge.svg\" alt=\"Open In Colab\"></a>\n",
        "</div>"
      ]
    },
    {
      "cell_type": "markdown",
      "metadata": {
        "id": "wKGLhg_qcaqH"
      },
      "source": [
        "## Data"
      ]
    },
    {
      "cell_type": "markdown",
      "metadata": {
        "id": "AtlC2bbu0K_r"
      },
      "source": [
        "> We suggest you execute this notebook on [Google colab](https://colab.research.google.com/github/GokuMohandas/testing-ml/blob/main/testing.ipynb) since we leverage many of the preinstalled packages, as well as the free GPU. However, as always, we can also run this locally but we'll have to manually install any missing packages."
      ]
    },
    {
      "cell_type": "code",
      "execution_count": null,
      "metadata": {
        "id": "zHTlIl_3caqI"
      },
      "outputs": [],
      "source": [
        "!pip install great-expectations==0.15.15 -q"
      ]
    },
    {
      "cell_type": "code",
      "execution_count": 22,
      "metadata": {
        "id": "27pRgYKFcaqJ"
      },
      "outputs": [],
      "source": [
        "import great_expectations as ge\n",
        "import json\n",
        "import pandas as pd\n",
        "from urllib.request import urlopen"
      ]
    },
    {
      "cell_type": "code",
      "execution_count": 23,
      "metadata": {
        "colab": {
          "base_uri": "https://localhost:8080/",
          "height": 224
        },
        "id": "U0TGfyUzcaqJ",
        "outputId": "7c7eaf21-ef0b-4727-aaed-3ce53308c006"
      },
      "outputs": [
        {
          "name": "stdout",
          "output_type": "stream",
          "text": [
            "955 projects\n"
          ]
        },
        {
          "data": {
            "text/html": [
              "\n",
              "  <div id=\"df-c3f010c2-6623-4bd1-b2e8-cdf6cd2a1022\">\n",
              "    <div class=\"colab-df-container\">\n",
              "      <div>\n",
              "<style scoped>\n",
              "    .dataframe tbody tr th:only-of-type {\n",
              "        vertical-align: middle;\n",
              "    }\n",
              "\n",
              "    .dataframe tbody tr th {\n",
              "        vertical-align: top;\n",
              "    }\n",
              "\n",
              "    .dataframe thead th {\n",
              "        text-align: right;\n",
              "    }\n",
              "</style>\n",
              "<table border=\"1\" class=\"dataframe\">\n",
              "  <thead>\n",
              "    <tr style=\"text-align: right;\">\n",
              "      <th></th>\n",
              "      <th>id</th>\n",
              "      <th>created_on</th>\n",
              "      <th>title</th>\n",
              "      <th>description</th>\n",
              "      <th>tag</th>\n",
              "    </tr>\n",
              "  </thead>\n",
              "  <tbody>\n",
              "    <tr>\n",
              "      <th>0</th>\n",
              "      <td>6</td>\n",
              "      <td>2020-02-20 06:43:18</td>\n",
              "      <td>Comparison between YOLO and RCNN on real world...</td>\n",
              "      <td>Bringing theory to experiment is cool. We can ...</td>\n",
              "      <td>computer-vision</td>\n",
              "    </tr>\n",
              "    <tr>\n",
              "      <th>1</th>\n",
              "      <td>7</td>\n",
              "      <td>2020-02-20 06:47:21</td>\n",
              "      <td>Show, Infer &amp; Tell: Contextual Inference for C...</td>\n",
              "      <td>The beauty of the work lies in the way it arch...</td>\n",
              "      <td>computer-vision</td>\n",
              "    </tr>\n",
              "    <tr>\n",
              "      <th>2</th>\n",
              "      <td>9</td>\n",
              "      <td>2020-02-24 16:24:45</td>\n",
              "      <td>Awesome Graph Classification</td>\n",
              "      <td>A collection of important graph embedding, cla...</td>\n",
              "      <td>graph-learning</td>\n",
              "    </tr>\n",
              "    <tr>\n",
              "      <th>3</th>\n",
              "      <td>15</td>\n",
              "      <td>2020-02-28 23:55:26</td>\n",
              "      <td>Awesome Monte Carlo Tree Search</td>\n",
              "      <td>A curated list of Monte Carlo tree search pape...</td>\n",
              "      <td>reinforcement-learning</td>\n",
              "    </tr>\n",
              "    <tr>\n",
              "      <th>4</th>\n",
              "      <td>19</td>\n",
              "      <td>2020-03-03 13:54:31</td>\n",
              "      <td>Diffusion to Vector</td>\n",
              "      <td>Reference implementation of Diffusion2Vec (Com...</td>\n",
              "      <td>graph-learning</td>\n",
              "    </tr>\n",
              "  </tbody>\n",
              "</table>\n",
              "</div>\n",
              "      <button class=\"colab-df-convert\" onclick=\"convertToInteractive('df-c3f010c2-6623-4bd1-b2e8-cdf6cd2a1022')\"\n",
              "              title=\"Convert this dataframe to an interactive table.\"\n",
              "              style=\"display:none;\">\n",
              "        \n",
              "  <svg xmlns=\"http://www.w3.org/2000/svg\" height=\"24px\"viewBox=\"0 0 24 24\"\n",
              "       width=\"24px\">\n",
              "    <path d=\"M0 0h24v24H0V0z\" fill=\"none\"/>\n",
              "    <path d=\"M18.56 5.44l.94 2.06.94-2.06 2.06-.94-2.06-.94-.94-2.06-.94 2.06-2.06.94zm-11 1L8.5 8.5l.94-2.06 2.06-.94-2.06-.94L8.5 2.5l-.94 2.06-2.06.94zm10 10l.94 2.06.94-2.06 2.06-.94-2.06-.94-.94-2.06-.94 2.06-2.06.94z\"/><path d=\"M17.41 7.96l-1.37-1.37c-.4-.4-.92-.59-1.43-.59-.52 0-1.04.2-1.43.59L10.3 9.45l-7.72 7.72c-.78.78-.78 2.05 0 2.83L4 21.41c.39.39.9.59 1.41.59.51 0 1.02-.2 1.41-.59l7.78-7.78 2.81-2.81c.8-.78.8-2.07 0-2.86zM5.41 20L4 18.59l7.72-7.72 1.47 1.35L5.41 20z\"/>\n",
              "  </svg>\n",
              "      </button>\n",
              "      \n",
              "  <style>\n",
              "    .colab-df-container {\n",
              "      display:flex;\n",
              "      flex-wrap:wrap;\n",
              "      gap: 12px;\n",
              "    }\n",
              "\n",
              "    .colab-df-convert {\n",
              "      background-color: #E8F0FE;\n",
              "      border: none;\n",
              "      border-radius: 50%;\n",
              "      cursor: pointer;\n",
              "      display: none;\n",
              "      fill: #1967D2;\n",
              "      height: 32px;\n",
              "      padding: 0 0 0 0;\n",
              "      width: 32px;\n",
              "    }\n",
              "\n",
              "    .colab-df-convert:hover {\n",
              "      background-color: #E2EBFA;\n",
              "      box-shadow: 0px 1px 2px rgba(60, 64, 67, 0.3), 0px 1px 3px 1px rgba(60, 64, 67, 0.15);\n",
              "      fill: #174EA6;\n",
              "    }\n",
              "\n",
              "    [theme=dark] .colab-df-convert {\n",
              "      background-color: #3B4455;\n",
              "      fill: #D2E3FC;\n",
              "    }\n",
              "\n",
              "    [theme=dark] .colab-df-convert:hover {\n",
              "      background-color: #434B5C;\n",
              "      box-shadow: 0px 1px 3px 1px rgba(0, 0, 0, 0.15);\n",
              "      filter: drop-shadow(0px 1px 2px rgba(0, 0, 0, 0.3));\n",
              "      fill: #FFFFFF;\n",
              "    }\n",
              "  </style>\n",
              "\n",
              "      <script>\n",
              "        const buttonEl =\n",
              "          document.querySelector('#df-c3f010c2-6623-4bd1-b2e8-cdf6cd2a1022 button.colab-df-convert');\n",
              "        buttonEl.style.display =\n",
              "          google.colab.kernel.accessAllowed ? 'block' : 'none';\n",
              "\n",
              "        async function convertToInteractive(key) {\n",
              "          const element = document.querySelector('#df-c3f010c2-6623-4bd1-b2e8-cdf6cd2a1022');\n",
              "          const dataTable =\n",
              "            await google.colab.kernel.invokeFunction('convertToInteractive',\n",
              "                                                     [key], {});\n",
              "          if (!dataTable) return;\n",
              "\n",
              "          const docLinkHtml = 'Like what you see? Visit the ' +\n",
              "            '<a target=\"_blank\" href=https://colab.research.google.com/notebooks/data_table.ipynb>data table notebook</a>'\n",
              "            + ' to learn more about interactive tables.';\n",
              "          element.innerHTML = '';\n",
              "          dataTable['output_type'] = 'display_data';\n",
              "          await google.colab.output.renderOutput(dataTable, element);\n",
              "          const docLink = document.createElement('div');\n",
              "          docLink.innerHTML = docLinkHtml;\n",
              "          element.appendChild(docLink);\n",
              "        }\n",
              "      </script>\n",
              "    </div>\n",
              "  </div>\n",
              "  "
            ],
            "text/plain": [
              "   id           created_on                                              title  \\\n",
              "0   6  2020-02-20 06:43:18  Comparison between YOLO and RCNN on real world...   \n",
              "1   7  2020-02-20 06:47:21  Show, Infer & Tell: Contextual Inference for C...   \n",
              "2   9  2020-02-24 16:24:45                       Awesome Graph Classification   \n",
              "3  15  2020-02-28 23:55:26                    Awesome Monte Carlo Tree Search   \n",
              "4  19  2020-03-03 13:54:31                                Diffusion to Vector   \n",
              "\n",
              "                                         description                     tag  \n",
              "0  Bringing theory to experiment is cool. We can ...         computer-vision  \n",
              "1  The beauty of the work lies in the way it arch...         computer-vision  \n",
              "2  A collection of important graph embedding, cla...          graph-learning  \n",
              "3  A curated list of Monte Carlo tree search pape...  reinforcement-learning  \n",
              "4  Reference implementation of Diffusion2Vec (Com...          graph-learning  "
            ]
          },
          "execution_count": 23,
          "metadata": {},
          "output_type": "execute_result"
        }
      ],
      "source": [
        "# Load labeled projects\n",
        "projects = pd.read_csv(\"https://raw.githubusercontent.com/GokuMohandas/Made-With-ML/main/datasets/projects.csv\")\n",
        "tags = pd.read_csv(\"https://raw.githubusercontent.com/GokuMohandas/Made-With-ML/main/datasets/tags.csv\")\n",
        "df = ge.dataset.PandasDataset(pd.merge(projects, tags, on=\"id\"))\n",
        "print (f\"{len(df)} projects\")\n",
        "df.head(5)"
      ]
    },
    {
      "cell_type": "markdown",
      "metadata": {
        "id": "l-1uOupZ_sV0"
      },
      "source": [
        "## Expectations"
      ]
    },
    {
      "cell_type": "markdown",
      "metadata": {
        "id": "qBiEhZgf_1ep"
      },
      "source": [
        "When it comes to creating expectations as to what our data should look like, we want to think about our entire dataset and all the features (columns) within it."
      ]
    },
    {
      "cell_type": "code",
      "execution_count": null,
      "metadata": {
        "id": "mq_v3CCi_y0V"
      },
      "outputs": [],
      "source": [
        "# Presence of specific features\n",
        "df.expect_table_columns_to_match_ordered_list(\n",
        "    column_list=[\"id\", \"created_on\", \"title\", \"description\", \"tag\"]\n",
        ")"
      ]
    },
    {
      "cell_type": "code",
      "execution_count": null,
      "metadata": {
        "id": "LiOVVOBY_8o8"
      },
      "outputs": [],
      "source": [
        "# Unique combinations of features (detect data leaks!)\n",
        "df.expect_compound_columns_to_be_unique(column_list=[\"title\", \"description\"])"
      ]
    },
    {
      "cell_type": "code",
      "execution_count": null,
      "metadata": {
        "id": "Qn3Qbn1E_8rj"
      },
      "outputs": [],
      "source": [
        "# Missing values\n",
        "df.expect_column_values_to_not_be_null(column=\"tag\")"
      ]
    },
    {
      "cell_type": "code",
      "execution_count": null,
      "metadata": {
        "id": "yFCHceSTByMQ"
      },
      "outputs": [],
      "source": [
        "# Unique values\n",
        "df.expect_column_values_to_be_unique(column=\"id\")"
      ]
    },
    {
      "cell_type": "code",
      "execution_count": null,
      "metadata": {
        "id": "SHZSTik6ByPH"
      },
      "outputs": [],
      "source": [
        "# Type adherence\n",
        "df.expect_column_values_to_be_of_type(column=\"title\", type_=\"str\")"
      ]
    },
    {
      "cell_type": "code",
      "execution_count": null,
      "metadata": {
        "id": "B8AgNaWEB5fn"
      },
      "outputs": [],
      "source": [
        "# List (categorical) / range (continuous) of allowed values\n",
        "tags = [\"computer-vision\", \"graph-learning\", \"reinforcement-learning\",\n",
        "        \"natural-language-processing\", \"mlops\", \"time-series\"]\n",
        "df.expect_column_values_to_be_in_set(column=\"tag\", value_set=tags)"
      ]
    },
    {
      "cell_type": "markdown",
      "metadata": {
        "id": "qp2CsiIcEuBT"
      },
      "source": [
        "There are just a few of the different expectations that we can create. Be sure to explore all the [expectations](https://greatexpectations.io/expectations/), including [custom expectations](https://docs.greatexpectations.io/docs/guides/expectations/creating_custom_expectations/overview/). Here are some other popular expectations that don't pertain to our specific dataset but are widely applicable:\n",
        "\n",
        "- feature value relationships with other feature values → `expect_column_pair_values_a_to_be_greater_than_b`\n",
        "- row count (exact or range) of samples → `expect_table_row_count_to_be_between`\n",
        "- value statistics (mean, std, median, max, min, sum, etc.) → `expect_column_mean_to_be_between`"
      ]
    },
    {
      "cell_type": "markdown",
      "metadata": {
        "id": "f4c6BGKOcaqU"
      },
      "source": [
        "## Production"
      ]
    },
    {
      "cell_type": "markdown",
      "metadata": {
        "id": "VEae_tNSGRmR"
      },
      "source": [
        "The advantage of using a library such as great expectations, as opposed to isolated assert statements is that we can:\n",
        "\n",
        "- reduce redundant efforts for creating tests across data modalities\n",
        "- automatically create testing [checkpoints](https://madewithml.com/courses/mlops/testing#checkpoints) to execute as our dataset grows\n",
        "- automatically generate [documentation](https://madewithml.com/courses/mlops/testing#documentation) on expectations and report on runs"
      ]
    },
    {
      "cell_type": "code",
      "execution_count": 30,
      "metadata": {
        "colab": {
          "base_uri": "https://localhost:8080/"
        },
        "id": "TUJ1vH6mcaqU",
        "outputId": "6cb899de-3795-41fc-95f8-d5465cb8da06"
      },
      "outputs": [
        {
          "name": "stdout",
          "output_type": "stream",
          "text": [
            "{\n",
            "  \"meta\": {\n",
            "    \"great_expectations_version\": \"0.15.15\",\n",
            "    \"expectation_suite_name\": \"default\",\n",
            "    \"run_id\": {\n",
            "      \"run_time\": \"2022-08-02T21:35:49.062596+00:00\",\n",
            "      \"run_name\": null\n",
            "    },\n",
            "    \"batch_kwargs\": {\n",
            "      \"ge_batch_id\": \"12753e60-12ab-11ed-a8c9-0242ac1c0002\"\n",
            "    },\n",
            "    \"batch_markers\": {},\n",
            "    \"batch_parameters\": {},\n",
            "    \"validation_time\": \"20220802T213549.062499Z\",\n",
            "    \"expectation_suite_meta\": {\n",
            "      \"great_expectations_version\": \"0.15.15\"\n",
            "    }\n",
            "  },\n",
            "  \"success\": true,\n",
            "  \"evaluation_parameters\": {},\n",
            "  \"results\": [],\n",
            "  \"statistics\": {\n",
            "    \"evaluated_expectations\": 6,\n",
            "    \"successful_expectations\": 6,\n",
            "    \"unsuccessful_expectations\": 0,\n",
            "    \"success_percent\": 100.0\n",
            "  }\n",
            "}\n"
          ]
        }
      ],
      "source": [
        "# Expectation suite\n",
        "expectation_suite = df.get_expectation_suite(discard_failed_expectations=False)\n",
        "print(df.validate(expectation_suite=expectation_suite, only_return_failures=True))"
      ]
    },
    {
      "cell_type": "markdown",
      "metadata": {
        "id": "PppKyXefG6rZ"
      },
      "source": [
        "Many of these expectations will be executed when the data is extracted, loaded and transformed during our [DataOps workflows](https://madewithml.com/courses/mlops/orchestration#dataops). Typically, the data will be extracted from a source ([database](https://madewithml.com/courses/mlops/data-stack#database), [API](https://madewithml.com/courses/mlops/api), etc.) and loaded into a data system (ex. [data warehouse](https://madewithml.com/courses/mlops/data-stack#data-warehouse)) before being transformed there (ex. using [dbt](https://www.getdbt.com/)) for downstream applications. Throughout these tasks, Great Expectations checkpoint validations can be run to ensure the validity of the data and the changes applied to it.\n",
        "\n",
        "<img width=\"700\" src=\"https://madewithml.com/static/images/mlops/testing/production.png\" alt=\"ETL pipelines in production\">"
      ]
    },
    {
      "cell_type": "markdown",
      "metadata": {
        "id": "QcODvh86_sw4"
      },
      "source": [
        "# Learn more"
      ]
    },
    {
      "cell_type": "markdown",
      "metadata": {
        "id": "CADqxtq8dAQP"
      },
      "source": [
        "While these are the foundational concepts for testing ML systems, there are a lot of software best practices for testing that we cannot show in an isolated repository. Learn a lot more about comprehensively testing code, data and models for ML systems in our [testing lesson](https://madewithml.com/courses/mlops/testing/)."
      ]
    }
  ],
  "metadata": {
    "colab": {
      "collapsed_sections": [],
      "name": "testing.ipynb",
      "provenance": [],
      "toc_visible": true
    },
    "kernelspec": {
      "display_name": "Python 3.9.1 64-bit ('3.9.1')",
      "language": "python",
      "name": "python3"
    },
    "language_info": {
      "codemirror_mode": {
        "name": "ipython",
        "version": 3
      },
      "file_extension": ".py",
      "mimetype": "text/x-python",
      "name": "python",
      "nbconvert_exporter": "python",
      "pygments_lexer": "ipython3",
      "version": "3.9.1"
    },
    "orig_nbformat": 4,
    "vscode": {
      "interpreter": {
        "hash": "86a18fab98e45cbbb46dd97b38b13914cb97c5aa653edcee9fd16b53f5a0e542"
      }
    }
  },
  "nbformat": 4,
  "nbformat_minor": 0
}
